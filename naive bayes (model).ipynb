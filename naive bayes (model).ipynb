{
 "cells": [
  {
   "cell_type": "code",
   "execution_count": 397,
   "id": "collected-bunny",
   "metadata": {},
   "outputs": [
    {
     "data": {
      "text/plain": [
       "0    Tidak Manis\n",
       "1    Tidak Manis\n",
       "2    Tidak Manis\n",
       "3    Tidak Manis\n",
       "4    Tidak Manis\n",
       "Name: Kelas, dtype: object"
      ]
     },
     "execution_count": 397,
     "metadata": {},
     "output_type": "execute_result"
    }
   ],
   "source": [
    "import pandas as pd\n",
    "import numpy as np\n",
    "from sklearn import metrics\n",
    "dataset = pd.read_csv(\"datasetobservasi.csv\")\n",
    "dataset.head()\n",
    "# variabel bebas\n",
    "x = dataset.drop([\"Kelas\"], axis = 1)\n",
    "x.head()\n",
    "#variabel tidak bebas\n",
    "y = dataset[\"Kelas\"]\n",
    "y.head()"
   ]
  },
  {
   "cell_type": "code",
   "execution_count": 398,
   "id": "global-tumor",
   "metadata": {
    "scrolled": true
   },
   "outputs": [
    {
     "name": "stdout",
     "output_type": "stream",
     "text": [
      "<class 'pandas.core.frame.DataFrame'>\n",
      "Int64Index: 31 entries, 71 to 68\n",
      "Data columns (total 3 columns):\n",
      " #   Column  Non-Null Count  Dtype  \n",
      "---  ------  --------------  -----  \n",
      " 0   X1      31 non-null     float64\n",
      " 1   X2      31 non-null     float64\n",
      " 2   X3      31 non-null     float64\n",
      "dtypes: float64(3)\n",
      "memory usage: 992.0 bytes\n",
      "<class 'pandas.core.frame.DataFrame'>\n",
      "Int64Index: 25 entries, 50 to 3\n",
      "Data columns (total 3 columns):\n",
      " #   Column  Non-Null Count  Dtype  \n",
      "---  ------  --------------  -----  \n",
      " 0   X1      25 non-null     float64\n",
      " 1   X2      25 non-null     float64\n",
      " 2   X3      25 non-null     float64\n",
      "dtypes: float64(3)\n",
      "memory usage: 800.0 bytes\n",
      "<class 'pandas.core.frame.DataFrame'>\n",
      "Int64Index: 24 entries, 63 to 56\n",
      "Data columns (total 3 columns):\n",
      " #   Column  Non-Null Count  Dtype  \n",
      "---  ------  --------------  -----  \n",
      " 0   X1      24 non-null     float64\n",
      " 1   X2      24 non-null     float64\n",
      " 2   X3      24 non-null     float64\n",
      "dtypes: float64(3)\n",
      "memory usage: 768.0 bytes\n"
     ]
    }
   ],
   "source": [
    "# classification \n",
    "# please install scikit library \n",
    "# pip install -U scikit-learn \n",
    "\n",
    "# separate the dataset \n",
    "from sklearn.model_selection import train_test_split \n",
    "\n",
    "#split data uji\n",
    "x_train, x_test, y_train, y_test = train_test_split(\n",
    "    x, y, test_size=0.3, random_state=1)\n",
    "\n",
    "#split data validasi\n",
    "x_train, x_val, y_train, y_val = train_test_split(\n",
    "    x_train, y_train, test_size=0.43, random_state=1)  \n",
    "\n",
    "\n",
    "#train_ratio = 0.80\n",
    "#validation_ratio = 0.10\n",
    "#test_ratio = 0.10\n",
    "\n",
    "# train is now 75% of the entire data set\n",
    "# the _junk suffix means that we drop that variable completely\n",
    "#x_train, x_test, y_train, y_test = train_test_split(x, y, test_size=1 - train_ratio)\n",
    "\n",
    "# test is now 10% of the initial data set\n",
    "# validation is now 15% of the initial data set\n",
    "#x_val, x_test, y_val, y_test = train_test_split(x_test, y_test, test_size=test_ratio/(test_ratio + validation_ratio)) \n",
    "\n",
    "\n",
    "x_train.info()\n",
    "x_val.info()\n",
    "x_test.info() \n",
    "#print(y_train, y_val, y_test)\n",
    "#import from library \n",
    "from sklearn.naive_bayes import GaussianNB \n",
    "# Call Gaussian Naive Bayes \n",
    "dataset_model = GaussianNB()"
   ]
  },
  {
   "cell_type": "code",
   "execution_count": 399,
   "id": "female-filling",
   "metadata": {},
   "outputs": [],
   "source": [
    "# Insert the training dataset to Naive Bayes function (validasi)\n",
    "NB_train = dataset_model.fit(x_train, y_train)"
   ]
  },
  {
   "cell_type": "code",
   "execution_count": 400,
   "id": "saved-danish",
   "metadata": {},
   "outputs": [
    {
     "data": {
      "text/plain": [
       "array(['Manis', 'Sangat Manis', 'Tidak Manis', 'Tidak Manis',\n",
       "       'Kurang Manis', 'Kurang Manis', 'Tidak Manis', 'Manis',\n",
       "       'Sangat Manis', 'Kurang Manis', 'Kurang Manis', 'Tidak Manis',\n",
       "       'Tidak Manis', 'Kurang Manis', 'Sangat Manis', 'Sangat Manis',\n",
       "       'Tidak Manis', 'Tidak Manis', 'Manis', 'Manis', 'Manis',\n",
       "       'Kurang Manis', 'Kurang Manis', 'Manis', 'Tidak Manis'],\n",
       "      dtype=object)"
      ]
     },
     "execution_count": 400,
     "metadata": {},
     "output_type": "execute_result"
    }
   ],
   "source": [
    "# Next step: Prediction the x_test to the model built and save to the y_pred variable (validasi)\n",
    "# show the result of prediction\n",
    "y_pred = NB_train.predict(x_val)\n",
    "np.array(y_pred)\n",
    "# show the y_test based on separation dataset\n",
    "np.array(y_val)"
   ]
  },
  {
   "cell_type": "code",
   "execution_count": 401,
   "id": "pediatric-hearts",
   "metadata": {},
   "outputs": [
    {
     "data": {
      "text/plain": [
       "array([[2.71957952e-28, 1.75643145e-34, 1.00000000e+00, 1.17559547e-21],\n",
       "       [4.20363725e-13, 9.99998962e-01, 8.87413552e-07, 1.50164691e-07],\n",
       "       [2.96304078e-04, 4.64431664e-10, 6.28386140e-01, 3.71317555e-01],\n",
       "       [1.98354672e-16, 1.19777109e-20, 9.99999986e-01, 1.42127629e-08],\n",
       "       [3.36559001e-02, 9.20483982e-09, 8.51153655e-01, 1.15190436e-01],\n",
       "       [7.97526683e-01, 8.93718249e-05, 3.77245380e-03, 1.98611491e-01],\n",
       "       [1.31176689e-08, 9.99986951e-01, 3.03241422e-06, 1.00031530e-05],\n",
       "       [6.54405106e-25, 8.06397528e-27, 1.00000000e+00, 1.27893326e-12],\n",
       "       [3.82513232e-02, 5.42507378e-06, 3.96304725e-03, 9.57780205e-01],\n",
       "       [5.37455697e-35, 3.13401576e-39, 1.00000000e+00, 1.82855357e-27],\n",
       "       [5.97713211e-03, 4.04281023e-07, 9.70108872e-03, 9.84321375e-01],\n",
       "       [8.05773763e-01, 4.38558935e-03, 3.31947662e-03, 1.86521171e-01],\n",
       "       [7.54313526e-01, 4.65943214e-03, 5.38348431e-04, 2.40488693e-01],\n",
       "       [3.79584648e-02, 4.02545928e-09, 8.66006730e-01, 9.60348016e-02],\n",
       "       [3.15212277e-14, 9.99999693e-01, 2.96000149e-07, 1.06347922e-08],\n",
       "       [1.50102938e-02, 2.95106141e-09, 9.48812789e-01, 3.61769145e-02],\n",
       "       [1.54157808e-01, 1.36495625e-05, 3.09168644e-03, 8.42736856e-01],\n",
       "       [9.42228600e-02, 1.89836842e-06, 1.09269101e-02, 8.94848331e-01],\n",
       "       [6.79656890e-03, 1.99494872e-06, 5.40988011e-03, 9.87791556e-01],\n",
       "       [1.43651195e-05, 1.73714764e-09, 2.25224451e-01, 7.74761183e-01],\n",
       "       [2.05360943e-15, 9.99999382e-01, 6.17689559e-07, 1.23189131e-10],\n",
       "       [1.23897198e-01, 6.93324296e-07, 1.46477102e-02, 8.61454398e-01],\n",
       "       [7.74918982e-17, 1.75189153e-20, 9.99999860e-01, 1.40341822e-07],\n",
       "       [5.60878826e-01, 2.39401656e-02, 4.74566676e-02, 3.67724341e-01]])"
      ]
     },
     "execution_count": 401,
     "metadata": {},
     "output_type": "execute_result"
    }
   ],
   "source": [
    "# this value will show all probability for each predicted class (validasi)\n",
    "NB_train.predict_proba(x_test)"
   ]
  },
  {
   "cell_type": "code",
   "execution_count": 402,
   "id": "interesting-thomson",
   "metadata": {},
   "outputs": [
    {
     "data": {
      "text/plain": [
       "array([[2, 1, 0, 4],\n",
       "       [0, 6, 0, 0],\n",
       "       [0, 0, 4, 0],\n",
       "       [1, 0, 0, 7]], dtype=int64)"
      ]
     },
     "execution_count": 402,
     "metadata": {},
     "output_type": "execute_result"
    }
   ],
   "source": [
    "# show the confusion matrix based on the prediction result (validasi)\n",
    "from sklearn.metrics import confusion_matrix\n",
    "confusion_matrix(y_val,y_pred)"
   ]
  },
  {
   "cell_type": "code",
   "execution_count": 403,
   "id": "after-judgment",
   "metadata": {},
   "outputs": [
    {
     "name": "stdout",
     "output_type": "stream",
     "text": [
      "Accuracy:  0.76\n"
     ]
    }
   ],
   "source": [
    "print(\"Accuracy: \",metrics.accuracy_score(y_val, y_pred))"
   ]
  },
  {
   "cell_type": "code",
   "execution_count": 404,
   "id": "promising-profile",
   "metadata": {},
   "outputs": [
    {
     "name": "stdout",
     "output_type": "stream",
     "text": [
      "              precision    recall  f1-score   support\n",
      "\n",
      "Kurang Manis       0.67      0.29      0.40         7\n",
      "       Manis       0.86      1.00      0.92         6\n",
      "Sangat Manis       1.00      1.00      1.00         4\n",
      " Tidak Manis       0.64      0.88      0.74         8\n",
      "\n",
      "    accuracy                           0.76        25\n",
      "   macro avg       0.79      0.79      0.76        25\n",
      "weighted avg       0.76      0.76      0.73        25\n",
      "\n"
     ]
    }
   ],
   "source": [
    "#evaluate performance from the confusion matrix (validasi)\n",
    "from sklearn.metrics import classification_report\n",
    "print(classification_report(y_val, y_pred))"
   ]
  },
  {
   "cell_type": "code",
   "execution_count": 405,
   "id": "returning-continuity",
   "metadata": {},
   "outputs": [],
   "source": [
    "# Insert the training dataset to Naive Bayes function (uji)\n",
    "NB_train = dataset_model.fit(x_train, y_train)"
   ]
  },
  {
   "cell_type": "code",
   "execution_count": 406,
   "id": "unlimited-spray",
   "metadata": {},
   "outputs": [
    {
     "data": {
      "text/plain": [
       "array(['Sangat Manis', 'Manis', 'Tidak Manis', 'Sangat Manis',\n",
       "       'Kurang Manis', 'Kurang Manis', 'Manis', 'Sangat Manis',\n",
       "       'Tidak Manis', 'Sangat Manis', 'Tidak Manis', 'Sangat Manis',\n",
       "       'Tidak Manis', 'Kurang Manis', 'Manis', 'Kurang Manis',\n",
       "       'Tidak Manis', 'Tidak Manis', 'Tidak Manis', 'Tidak Manis',\n",
       "       'Manis', 'Kurang Manis', 'Sangat Manis', 'Manis'], dtype=object)"
      ]
     },
     "execution_count": 406,
     "metadata": {},
     "output_type": "execute_result"
    }
   ],
   "source": [
    "# Next step: Prediction the x_test to the model built and save to the y_pred variable (uji)\n",
    "# show the result of prediction\n",
    "y_pred = NB_train.predict(x_test)\n",
    "np.array(y_pred)\n",
    "# show the y_test based on separation dataset\n",
    "np.array(y_test)"
   ]
  },
  {
   "cell_type": "code",
   "execution_count": 407,
   "id": "hispanic-christmas",
   "metadata": {},
   "outputs": [
    {
     "data": {
      "text/plain": [
       "array([[2.71957952e-28, 1.75643145e-34, 1.00000000e+00, 1.17559547e-21],\n",
       "       [4.20363725e-13, 9.99998962e-01, 8.87413552e-07, 1.50164691e-07],\n",
       "       [2.96304078e-04, 4.64431664e-10, 6.28386140e-01, 3.71317555e-01],\n",
       "       [1.98354672e-16, 1.19777109e-20, 9.99999986e-01, 1.42127629e-08],\n",
       "       [3.36559001e-02, 9.20483982e-09, 8.51153655e-01, 1.15190436e-01],\n",
       "       [7.97526683e-01, 8.93718249e-05, 3.77245380e-03, 1.98611491e-01],\n",
       "       [1.31176689e-08, 9.99986951e-01, 3.03241422e-06, 1.00031530e-05],\n",
       "       [6.54405106e-25, 8.06397528e-27, 1.00000000e+00, 1.27893326e-12],\n",
       "       [3.82513232e-02, 5.42507378e-06, 3.96304725e-03, 9.57780205e-01],\n",
       "       [5.37455697e-35, 3.13401576e-39, 1.00000000e+00, 1.82855357e-27],\n",
       "       [5.97713211e-03, 4.04281023e-07, 9.70108872e-03, 9.84321375e-01],\n",
       "       [8.05773763e-01, 4.38558935e-03, 3.31947662e-03, 1.86521171e-01],\n",
       "       [7.54313526e-01, 4.65943214e-03, 5.38348431e-04, 2.40488693e-01],\n",
       "       [3.79584648e-02, 4.02545928e-09, 8.66006730e-01, 9.60348016e-02],\n",
       "       [3.15212277e-14, 9.99999693e-01, 2.96000149e-07, 1.06347922e-08],\n",
       "       [1.50102938e-02, 2.95106141e-09, 9.48812789e-01, 3.61769145e-02],\n",
       "       [1.54157808e-01, 1.36495625e-05, 3.09168644e-03, 8.42736856e-01],\n",
       "       [9.42228600e-02, 1.89836842e-06, 1.09269101e-02, 8.94848331e-01],\n",
       "       [6.79656890e-03, 1.99494872e-06, 5.40988011e-03, 9.87791556e-01],\n",
       "       [1.43651195e-05, 1.73714764e-09, 2.25224451e-01, 7.74761183e-01],\n",
       "       [2.05360943e-15, 9.99999382e-01, 6.17689559e-07, 1.23189131e-10],\n",
       "       [1.23897198e-01, 6.93324296e-07, 1.46477102e-02, 8.61454398e-01],\n",
       "       [7.74918982e-17, 1.75189153e-20, 9.99999860e-01, 1.40341822e-07],\n",
       "       [5.60878826e-01, 2.39401656e-02, 4.74566676e-02, 3.67724341e-01]])"
      ]
     },
     "execution_count": 407,
     "metadata": {},
     "output_type": "execute_result"
    }
   ],
   "source": [
    "# this value will show all probability for each predicted class (uji)\n",
    "NB_train.predict_proba(x_test)"
   ]
  },
  {
   "cell_type": "code",
   "execution_count": 408,
   "id": "still-mailman",
   "metadata": {},
   "outputs": [
    {
     "data": {
      "text/plain": [
       "array([[1, 0, 3, 1],\n",
       "       [1, 4, 0, 0],\n",
       "       [1, 0, 5, 0],\n",
       "       [1, 0, 1, 6]], dtype=int64)"
      ]
     },
     "execution_count": 408,
     "metadata": {},
     "output_type": "execute_result"
    }
   ],
   "source": [
    "# show the confusion matrix based on the prediction result (uji)\n",
    "from sklearn.metrics import confusion_matrix\n",
    "confusion_matrix(y_test,y_pred)"
   ]
  },
  {
   "cell_type": "code",
   "execution_count": 409,
   "id": "beginning-tucson",
   "metadata": {},
   "outputs": [
    {
     "name": "stdout",
     "output_type": "stream",
     "text": [
      "Accuracy:  0.6666666666666666\n"
     ]
    }
   ],
   "source": [
    "print(\"Accuracy: \",metrics.accuracy_score(y_test, y_pred))"
   ]
  },
  {
   "cell_type": "code",
   "execution_count": 410,
   "id": "premier-pointer",
   "metadata": {},
   "outputs": [
    {
     "name": "stdout",
     "output_type": "stream",
     "text": [
      "              precision    recall  f1-score   support\n",
      "\n",
      "Kurang Manis       0.25      0.20      0.22         5\n",
      "       Manis       1.00      0.80      0.89         5\n",
      "Sangat Manis       0.56      0.83      0.67         6\n",
      " Tidak Manis       0.86      0.75      0.80         8\n",
      "\n",
      "    accuracy                           0.67        24\n",
      "   macro avg       0.67      0.65      0.64        24\n",
      "weighted avg       0.69      0.67      0.66        24\n",
      "\n"
     ]
    }
   ],
   "source": [
    "#evaluate performance from the confusion matrix (uji)\n",
    "from sklearn.metrics import classification_report\n",
    "print(classification_report(y_test, y_pred))"
   ]
  },
  {
   "cell_type": "code",
   "execution_count": null,
   "id": "weird-accommodation",
   "metadata": {},
   "outputs": [],
   "source": []
  },
  {
   "cell_type": "code",
   "execution_count": null,
   "id": "retained-memory",
   "metadata": {},
   "outputs": [],
   "source": []
  },
  {
   "cell_type": "code",
   "execution_count": null,
   "id": "duplicate-communications",
   "metadata": {},
   "outputs": [],
   "source": []
  },
  {
   "cell_type": "code",
   "execution_count": null,
   "id": "proved-editor",
   "metadata": {},
   "outputs": [],
   "source": []
  },
  {
   "cell_type": "code",
   "execution_count": null,
   "id": "alleged-motion",
   "metadata": {},
   "outputs": [],
   "source": []
  }
 ],
 "metadata": {
  "kernelspec": {
   "display_name": "Python 3",
   "language": "python",
   "name": "python3"
  },
  "language_info": {
   "codemirror_mode": {
    "name": "ipython",
    "version": 3
   },
   "file_extension": ".py",
   "mimetype": "text/x-python",
   "name": "python",
   "nbconvert_exporter": "python",
   "pygments_lexer": "ipython3",
   "version": "3.9.2"
  }
 },
 "nbformat": 4,
 "nbformat_minor": 5
}
